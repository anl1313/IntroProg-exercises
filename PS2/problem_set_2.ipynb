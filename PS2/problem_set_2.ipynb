{
 "cells": [
  {
   "cell_type": "markdown",
   "metadata": {},
   "source": [
    "# Problem set 2: Finding the Walras equilibrium in a multi-agent economy"
   ]
  },
  {
   "cell_type": "code",
   "execution_count": 22,
   "metadata": {},
   "outputs": [
    {
     "name": "stdout",
     "output_type": "stream",
     "text": [
      "The autoreload extension is already loaded. To reload it, use:\n",
      "  %reload_ext autoreload\n"
     ]
    }
   ],
   "source": [
    "%load_ext autoreload\n",
    "%autoreload 2\n",
    "import numpy as plt\n"
   ]
  },
  {
   "cell_type": "markdown",
   "metadata": {},
   "source": [
    "# Tasks"
   ]
  },
  {
   "cell_type": "markdown",
   "metadata": {},
   "source": [
    "## Drawing random numbers"
   ]
  },
  {
   "cell_type": "markdown",
   "metadata": {},
   "source": [
    "Replace the missing lines in the code below to get the same output as in the answer."
   ]
  },
  {
   "cell_type": "code",
   "execution_count": 23,
   "metadata": {},
   "outputs": [
    {
     "name": "stdout",
     "output_type": "stream",
     "text": [
      "(0,0): x = 0.569\n",
      "(0,1): x = 0.077\n",
      "(1,0): x = 0.569\n",
      "(1,1): x = 0.077\n",
      "(2,0): x = 0.569\n",
      "(2,1): x = 0.077\n"
     ]
    }
   ],
   "source": [
    "import numpy as np\n",
    "np.random.seed(1986)\n",
    "state = np.random.get_state()\n",
    "for i in range(3):\n",
    "    np.random.set_state(state)\n",
    "    for j in range(2):\n",
    "        x = np.random.uniform()\n",
    "        print(f'({i},{j}): x = {x:.3f}')"
   ]
  },
  {
   "cell_type": "markdown",
   "metadata": {},
   "source": [
    "**Answer:**"
   ]
  },
  {
   "cell_type": "markdown",
   "metadata": {},
   "source": [
    "See A1.py"
   ]
  },
  {
   "cell_type": "markdown",
   "metadata": {},
   "source": [
    "## Find the expectated value"
   ]
  },
  {
   "cell_type": "markdown",
   "metadata": {},
   "source": [
    "Find the expected value and the expected variance\n",
    "\n",
    "$$ \n",
    "\\mathbb{E}[g(x)] \\approx \\frac{1}{N}\\sum_{i=1}^{N} g(x_i)\n",
    "$$\n",
    "$$ \n",
    "\\mathbb{VAR}[g(x)] \\approx \\frac{1}{N}\\sum_{i=1}^{N} \\left( g(x_i) - \\frac{1}{N}\\sum_{i=1}^{N} g(x_i) \\right)^2\n",
    "$$\n",
    "\n",
    "where $ x_i \\sim \\mathcal{N}(0,\\sigma) $ and\n",
    "\n",
    "$$ \n",
    "g(x,\\omega)=\\begin{cases}\n",
    "x & \\text{if }x\\in[-\\omega,\\omega]\\\\\n",
    "-\\omega & \\text{if }x<-\\omega\\\\\n",
    "\\omega & \\text{if }x>\\omega\n",
    "\\end{cases} \n",
    "$$"
   ]
  },
  {
   "cell_type": "code",
   "execution_count": 24,
   "metadata": {},
   "outputs": [
    {
     "name": "stdout",
     "output_type": "stream",
     "text": [
      "mean =-0.00264, var = 2.69804\n"
     ]
    }
   ],
   "source": [
    "sigma = 3.14\n",
    "omega = 2\n",
    "N = 10000\n",
    "np.random.seed(1986)\n",
    "# write your code here\n",
    "x = np.random.normal(loc=0, scale=sigma, size=N)\n",
    "\n",
    "def g(x,omega):\n",
    "    return np.where(x < -omega, -omega, np.where(x > omega, omega, x))\n",
    "\n",
    "mean = np.mean(g(x,omega))\n",
    "var = np.var(g(x,omega))\n",
    "\n",
    "print(f'mean ={mean:.5f}, var = {var:.5f}')"
   ]
  },
  {
   "cell_type": "code",
   "execution_count": 25,
   "metadata": {},
   "outputs": [
    {
     "name": "stdout",
     "output_type": "stream",
     "text": [
      "mean = -0.00264, var = 2.69804\n"
     ]
    }
   ],
   "source": [
    "# a. parameter choices\n",
    "sigma = 3.14\n",
    "omega = 2\n",
    "N = 10000\n",
    "np.random.seed(1986)\n",
    "\n",
    "# b. draw random numbers\n",
    "x = np.random.normal(loc=0, scale=sigma, size=N)\n",
    "\n",
    "# c. transformation function\n",
    "\n",
    "\n",
    "def g(x, omega):\n",
    "    y = x.copy()\n",
    "    y[x < -omega] = -omega\n",
    "    y[x > omega] = omega\n",
    "    return y\n",
    "\n",
    "\n",
    "# d. mean and variance\n",
    "mean = np.mean(g(x, omega))\n",
    "var = np.var(g(x-mean, omega))\n",
    "print(f'mean = {mean:.5f}, var = {var:.5f}')"
   ]
  },
  {
   "cell_type": "markdown",
   "metadata": {},
   "source": [
    "**Answer:**"
   ]
  },
  {
   "cell_type": "markdown",
   "metadata": {},
   "source": [
    "See A2.py"
   ]
  },
  {
   "cell_type": "markdown",
   "metadata": {},
   "source": [
    "## Interactive histogram"
   ]
  },
  {
   "cell_type": "markdown",
   "metadata": {},
   "source": [
    "**First task:** Consider the code below. Fill in the missing lines so the figure is plotted."
   ]
  },
  {
   "cell_type": "code",
   "execution_count": 26,
   "metadata": {},
   "outputs": [
    {
     "data": {
      "image/png": "[encoded data removed]",
      "text/plain": [
       "<Figure size 640x480 with 1 Axes>"
      ]
     },
     "metadata": {},
     "output_type": "display_data"
    }
   ],
   "source": [
    "# a. import\n",
    "%matplotlib inline\n",
    "import matplotlib.pyplot as plt\n",
    "from ipywidgets import widgets\n",
    "from scipy.stats import norm # normal distribution\n",
    "import numpy as np\n",
    "\n",
    "# b. plotting figure\n",
    "def fitting_normal(X,mu_guess,sigma_guess):\n",
    "    \n",
    "    # i. normal distribution from guess\n",
    "    F = norm(loc=mu_guess,scale=sigma_guess)\n",
    "    \n",
    "    # ii. x-values\n",
    "    x_low = F.ppf(0.001)\n",
    "    x_high = F.ppf(0.999)\n",
    "    x = np.linspace(x_low,x_high,100)\n",
    "\n",
    "    # iii. figure\n",
    "    fig = plt.figure(dpi=100)\n",
    "    ax = fig.add_subplot(1,1,1)\n",
    "    ax.plot(x,F.pdf(x),lw=2)\n",
    "    ax.hist(X,bins=100,density=True,histtype='stepfilled');\n",
    "    ax.set_ylim([0,0.5])\n",
    "    ax.set_xlim([-6,6])\n",
    "\n",
    "# c. parameters\n",
    "mu_true = 2\n",
    "sigma_true = 1\n",
    "mu_guess = 1\n",
    "sigma_guess = 2\n",
    "\n",
    "# d. random draws\n",
    "X = np.random.normal(loc=mu_true,scale=sigma_true,size=10**6)\n",
    "\n",
    "# e. figure\n",
    "try:\n",
    "    fitting_normal(X,mu_guess,sigma_guess)\n",
    "except:\n",
    "    print('failed')"
   ]
  },
  {
   "cell_type": "markdown",
   "metadata": {},
   "source": [
    "**Second task:** Create an interactive version of the figure with sliders for $\\mu$ and $\\sigma$."
   ]
  },
  {
   "cell_type": "code",
   "execution_count": 27,
   "metadata": {},
   "outputs": [
    {
     "data": {
      "image/png": "[encoded data removed]",
      "text/plain": [
       "<Figure size 640x480 with 1 Axes>"
      ]
     },
     "metadata": {},
     "output_type": "display_data"
    },
    {
     "data": {
      "application/vnd.jupyter.widget-view+json": {
       "model_id": "f90b94f475e9460f8ecd781b94b98eb5",
       "version_major": 2,
       "version_minor": 0
      },
      "text/plain": [
       "interactive(children=(FloatSlider(value=2.0, description='mu', max=6.0, min=-6.0, step=0.2), FloatSlider(value…"
      ]
     },
     "metadata": {},
     "output_type": "display_data"
    }
   ],
   "source": [
    "# a. import\n",
    "%matplotlib inline\n",
    "import matplotlib.pyplot as plt\n",
    "from ipywidgets import widgets\n",
    "from scipy.stats import norm # normal distribution\n",
    "import numpy as np\n",
    "\n",
    "# b. plotting figure\n",
    "def fitting_normal(X,mu_guess,sigma_guess):\n",
    "    \n",
    "    # i. normal distribution from guess\n",
    "    F = norm(loc=mu_guess,scale=sigma_guess)\n",
    "    \n",
    "    # ii. x-values\n",
    "    x_low = F.ppf(0.001)\n",
    "    x_high = F.ppf(0.999)\n",
    "    x = np.linspace(x_low,x_high,100)\n",
    "\n",
    "    # iii. figure\n",
    "    fig = plt.figure(dpi=100)\n",
    "    ax = fig.add_subplot(1,1,1)\n",
    "    ax.plot(x,F.pdf(x),lw=2)\n",
    "    ax.hist(X,bins=100,density=True,histtype='stepfilled');\n",
    "    ax.set_ylim([0,0.5])\n",
    "    ax.set_xlim([-6,6])\n",
    "\n",
    "# c. parameters\n",
    "mu_true = 2\n",
    "sigma_true = 1\n",
    "mu_guess = 1\n",
    "sigma_guess = 2\n",
    "\n",
    "# d. random draws\n",
    "X = np.random.normal(loc=mu_true,scale=sigma_true,size=10**6)\n",
    "\n",
    "# e. figure\n",
    "try:\n",
    "    fitting_normal(X,mu_guess,sigma_guess)\n",
    "except:\n",
    "    print('failed')\n",
    "\n",
    "# Write out which arguments to interactive_figure you want to be changing or staying fixed \n",
    "widgets.interact(fitting_normal,\n",
    "    X=widgets.fixed(X),\n",
    "    mu_guess=widgets.FloatSlider(description=r\"mu\", min=-6, max=6, step=0.2, value=2),\n",
    "    sigma_guess=widgets.FloatSlider(description=r\"sigma\", min=0, max=3, step=0.2,value=1)\n",
    ");"
   ]
  },
  {
   "cell_type": "markdown",
   "metadata": {},
   "source": [
    "**Answer:**"
   ]
  },
  {
   "cell_type": "markdown",
   "metadata": {},
   "source": [
    "See A3.py"
   ]
  },
  {
   "cell_type": "markdown",
   "metadata": {},
   "source": [
    "## Modules"
   ]
  },
  {
   "cell_type": "markdown",
   "metadata": {},
   "source": [
    "1. Call the function `myfun` from the module `mymodule` present in this folder.\n",
    "2. Open VSCode and open the `mymodule.py`, add a new function and call it from this notebook."
   ]
  },
  {
   "cell_type": "code",
   "execution_count": 28,
   "metadata": {},
   "outputs": [
    {
     "name": "stdout",
     "output_type": "stream",
     "text": [
      "hello world!\n",
      "hello world!\n",
      "hello world!\n",
      "hello world!\n",
      "7\n"
     ]
    }
   ],
   "source": [
    "import mymodule\n",
    "\n",
    "mymodule.myfun(4)\n",
    "\n",
    "mymodule.Rune(7)"
   ]
  },
  {
   "cell_type": "markdown",
   "metadata": {},
   "source": [
    "**Answer:**"
   ]
  },
  {
   "cell_type": "markdown",
   "metadata": {},
   "source": [
    "See A4.py"
   ]
  },
  {
   "cell_type": "markdown",
   "metadata": {},
   "source": [
    "## Git"
   ]
  },
  {
   "cell_type": "markdown",
   "metadata": {},
   "source": [
    "1. Try to go to your own personal GitHub main page and create a new repository. Then put your solution to this problem set in it.\n",
    "2. Pair up with a fellow student. Clone each others repositories and run the code in them."
   ]
  },
  {
   "cell_type": "markdown",
   "metadata": {},
   "source": [
    "**IMPORTANT:** You will need **git** for the data project in a few needs. Better learn it know. Remember, that the teaching assistants are there to help you."
   ]
  },
  {
   "cell_type": "markdown",
   "metadata": {},
   "source": [
    "# Problem"
   ]
  },
  {
   "cell_type": "markdown",
   "metadata": {},
   "source": [
    "Consider an **exchange economy** with\n",
    "\n",
    "1. 2 goods, $(x_1,x_2)$\n",
    "2. $N$ consumers indexed by $j \\in \\{1,2,\\dots,N\\}$\n",
    "3. Preferences are Cobb-Douglas with truncated normally *heterogenous* coefficients\n",
    "\n",
    "    $$\n",
    "    \\begin{aligned}\n",
    "    u^{j}(x_{1},x_{2}) & = x_{1}^{\\alpha_{j}}x_{2}^{1-\\alpha_{j}}\\\\\n",
    "     & \\tilde{\\alpha}_{j}\\sim\\mathcal{N}(\\mu,\\sigma)\\\\\n",
    "     & \\alpha_j = \\max(\\underline{\\mu},\\min(\\overline{\\mu},\\tilde{\\alpha}_{j}))\n",
    "    \\end{aligned}\n",
    "    $$\n",
    "\n",
    "4. Endowments are *heterogenous* and given by\n",
    "\n",
    "    $$\n",
    "    \\begin{aligned}\n",
    "    \\boldsymbol{e}^{j}&=(e_{1}^{j},e_{2}^{j}) \\\\\n",
    "     &  & e_i^j \\sim f, f(x,\\beta_i) =  1/\\beta_i \\exp(-x/\\beta)\n",
    "    \\end{aligned}\n",
    "    $$"
   ]
  },
  {
   "cell_type": "markdown",
   "metadata": {},
   "source": [
    "**Problem:** Write a function to solve for the equilibrium."
   ]
  },
  {
   "cell_type": "markdown",
   "metadata": {},
   "source": [
    "You can use the following parameters:"
   ]
  },
  {
   "cell_type": "code",
   "execution_count": 36,
   "metadata": {},
   "outputs": [
    {
     "name": "stdout",
     "output_type": "stream",
     "text": [
      "  0: p1 =   1.41189888 -> excess demand ->  1189.88806951\n",
      "  1: p1 =   1.42316052 -> excess demand ->  1126.16386076\n",
      "  2: p1 =   1.43382886 -> excess demand ->  1066.83389790\n",
      "  3: p1 =   1.44394375 -> excess demand ->  1011.48925705\n",
      "  4: p1 =   1.45354146 -> excess demand ->   959.77102707\n",
      "   ...\n",
      " 25: p1 =   1.57679266 -> excess demand ->   357.34089728\n",
      " 50: p1 =   1.63065849 -> excess demand ->   125.31283291\n",
      " 75: p1 =   1.65000648 -> excess demand ->    45.98547655\n",
      "100: p1 =   1.65716527 -> excess demand ->    17.14260266\n",
      "125: p1 =   1.65984197 -> excess demand ->     6.42728950\n",
      "150: p1 =   1.66084666 -> excess demand ->     2.41494597\n",
      "175: p1 =   1.66122432 -> excess demand ->     0.90810245\n",
      "200: p1 =   1.66136635 -> excess demand ->     0.34158041\n",
      "225: p1 =   1.66141978 -> excess demand ->     0.12849913\n",
      "250: p1 =   1.66143988 -> excess demand ->     0.04834214\n",
      "275: p1 =   1.66144744 -> excess demand ->     0.01818690\n",
      "300: p1 =   1.66145029 -> excess demand ->     0.00684217\n",
      "325: p1 =   1.66145136 -> excess demand ->     0.00257413\n",
      "350: p1 =   1.66145176 -> excess demand ->     0.00096843\n",
      "375: p1 =   1.66145191 -> excess demand ->     0.00036434\n",
      "400: p1 =   1.66145197 -> excess demand ->     0.00013707\n",
      "425: p1 =   1.66145199 -> excess demand ->     0.00005157\n",
      "450: p1 =   1.66145200 -> excess demand ->     0.00001940\n",
      "475: p1 =   1.66145200 -> excess demand ->     0.00000730\n",
      "500: p1 =   1.66145200 -> excess demand ->     0.00000275\n",
      "525: p1 =   1.66145200 -> excess demand ->     0.00000103\n",
      "550: p1 =   1.66145200 -> excess demand ->     0.00000039\n",
      "575: p1 =   1.66145200 -> excess demand ->     0.00000015\n",
      "600: p1 =   1.66145200 -> excess demand ->     0.00000006\n",
      "625: p1 =   1.66145200 -> excess demand ->     0.00000002\n",
      "644: p1 =   1.66145200 -> excess demand ->     0.00000001\n"
     ]
    }
   ],
   "source": [
    "# a. parameters\n",
    "N = 10000\n",
    "mu = 0.5\n",
    "sigma = 0.2 \n",
    "mu_low = 0.1\n",
    "mu_high = 0.9\n",
    "beta1 = 1.3\n",
    "beta2 = 2.1\n",
    "seed = 1986\n",
    "\n",
    "# b. draws of random numbers\n",
    "alphas =np.random.normal(loc=mu, scale=sigma, size=N)\n",
    "alphas = np.fmax(mu_low, np.fmin(mu_high,alphas))\n",
    "e1=np.random.exponential(scale=beta1, size=N)\n",
    "e2=np.random.exponential(scale=beta2, size=N)\n",
    "\n",
    "# c. demand function\n",
    "def dem_good_1(alphas, p1,p2, e1,e2):\n",
    "    I=e1*p1+e2*p2\n",
    "    return alphas*I/p1\n",
    "\n",
    "def dem_good_2(alphas, p1,p2, e1,e2):\n",
    "    I = e1*p1+e2*p2\n",
    "    return (1-alphas)*I/p2\n",
    " \n",
    "# d. excess demand function\n",
    "def excess_demand_good_1(alphas, p1,p2,e1,e2):\n",
    "    supply1 = np.sum(e1)\n",
    "    #sum of demands\n",
    "    demand1 = np.sum(dem_good_1(alphas,p1,p2,e1,e2))\n",
    "    excess1 = demand1 - supply1\n",
    "    \n",
    "    return excess1\n",
    "\n",
    "# e. find equilibrium function\n",
    "\n",
    "def find_equilibrium(alphas, p1, p2, e1, e2, kappa=0.5, eps=1e-8, maxiter=1000):\n",
    "\n",
    "    t = 0\n",
    "    while True:\n",
    "\n",
    "        # a. step 1: excess demand\n",
    "        Z1 = excess_demand_good_1(alphas, p1, p2, e1, e2)\n",
    "\n",
    "        # b: step 2: stop?\n",
    "        if np.abs(Z1) < eps or t >= maxiter:\n",
    "            print(f'{t:3d}: p1 = {p1:12.8f} -> excess demand -> {Z1:14.8f}')\n",
    "            break\n",
    "\n",
    "        # c. step 3: update p1\n",
    "        p1 = p1 + kappa*Z1/alphas.size\n",
    "\n",
    "        # d. step 4: return\n",
    "        if t < 5 or t % 25 == 0:\n",
    "            print(f'{t:3d}: p1 = {p1:12.8f} -> excess demand -> {Z1:14.8f}')\n",
    "        elif t == 5:\n",
    "            print('   ...')\n",
    "\n",
    "        t += 1\n",
    "\n",
    "    return p1\n",
    "\n",
    "# f. call find equilibrium function\n",
    "p1 = 1.4\n",
    "p2 = 1\n",
    "kappa = 0.1\n",
    "eps = 1e-8\n",
    "p1 = find_equilibrium(alphas,p1,p2,e1, e2,kappa=kappa,eps=eps)"
   ]
  },
  {
   "cell_type": "markdown",
   "metadata": {},
   "source": [
    "**Hint:** The code structure is exactly the same as for the exchange economy considered in the lecture. The code for solving that exchange economy is reproduced in condensed form below."
   ]
  },
  {
   "cell_type": "code",
   "execution_count": null,
   "metadata": {},
   "outputs": [
    {
     "name": "stdout",
     "output_type": "stream",
     "text": [
      "  0: p1 =   1.33690689 -> excess demand ->  -630.93108302\n",
      "  1: p1 =   1.27551407 -> excess demand ->  -613.92820358\n",
      "  2: p1 =   1.21593719 -> excess demand ->  -595.76882769\n",
      "  3: p1 =   1.15829785 -> excess demand ->  -576.39340748\n",
      "  4: p1 =   1.10272273 -> excess demand ->  -555.75114178\n",
      "   ...\n",
      " 25: p1 =   0.53269252 -> excess demand ->   -53.80455643\n",
      " 50: p1 =   0.50897770 -> excess demand ->    -0.27125769\n",
      " 75: p1 =   0.50886603 -> excess demand ->    -0.00120613\n",
      "100: p1 =   0.50886553 -> excess demand ->    -0.00000536\n",
      "125: p1 =   0.50886553 -> excess demand ->    -0.00000002\n",
      "130: p1 =   0.50886553 -> excess demand ->    -0.00000001\n"
     ]
    }
   ],
   "source": [
    "# a. parameters\n",
    "N = 1000\n",
    "k = 2\n",
    "mu_low = 0.1\n",
    "mu_high = 0.9\n",
    "seed = 1986\n",
    "\n",
    "# b. draws of random numbers\n",
    "np.random.seed(seed)\n",
    "alphas = np.random.uniform(low=mu_low,high=mu_high,size=N)\n",
    "\n",
    "# c. demand function\n",
    "def demand_good_1_func(alpha,p1,p2,k):\n",
    "    I = k*p1+p2\n",
    "    return alpha*I/p1\n",
    "\n",
    "# d. excess demand function\n",
    "def excess_demand_good_1_func(alphas,p1,p2,k):\n",
    "    \n",
    "    # a. demand\n",
    "    demand = np.sum(demand_good_1_func(alphas,p1,p2,k))\n",
    "    \n",
    "    # b. supply\n",
    "    supply = k*alphas.size\n",
    "    \n",
    "    # c. excess demand\n",
    "    excess_demand = demand-supply\n",
    "    \n",
    "    return excess_demand\n",
    "\n",
    "# e. find equilibrium function\n",
    "def find_equilibrium(alphas,p1,p2,k,kappa=0.5,eps=1e-8,maxiter=500):\n",
    "    \n",
    "    t = 0\n",
    "    while True:\n",
    "\n",
    "        # a. step 1: excess demand\n",
    "        Z1 = excess_demand_good_1_func(alphas,p1,p2,k)\n",
    "        \n",
    "        # b: step 2: stop?\n",
    "        if  np.abs(Z1) < eps or t >= maxiter:\n",
    "            print(f'{t:3d}: p1 = {p1:12.8f} -> excess demand -> {Z1:14.8f}')\n",
    "            break    \n",
    "    \n",
    "        # c. step 3: update p1\n",
    "        p1 = p1 + kappa*Z1/alphas.size\n",
    "            \n",
    "        # d. step 4: return \n",
    "        if t < 5 or t%25 == 0:\n",
    "            print(f'{t:3d}: p1 = {p1:12.8f} -> excess demand -> {Z1:14.8f}')\n",
    "        elif t == 5:\n",
    "            print('   ...')\n",
    "            \n",
    "        t += 1    \n",
    "\n",
    "    return p1\n",
    "\n",
    "# e. call find equilibrium function\n",
    "p1 = 1.4\n",
    "p2 = 1\n",
    "kappa = 0.1\n",
    "eps = 1e-8\n",
    "p1 = find_equilibrium(alphas,p1,p2,k,kappa=kappa,eps=eps)"
   ]
  },
  {
   "cell_type": "markdown",
   "metadata": {},
   "source": [
    "**Answers:**"
   ]
  },
  {
   "cell_type": "markdown",
   "metadata": {},
   "source": [
    "See A5.py"
   ]
  },
  {
   "cell_type": "markdown",
   "metadata": {},
   "source": [
    "## Save and load"
   ]
  },
  {
   "cell_type": "markdown",
   "metadata": {},
   "source": [
    "Consider the code below and fill in the missing lines so the code can run without any errors."
   ]
  },
  {
   "cell_type": "code",
   "execution_count": 42,
   "metadata": {},
   "outputs": [
    {
     "name": "stdout",
     "output_type": "stream",
     "text": [
      "variables loaded without error\n"
     ]
    }
   ],
   "source": [
    "import pickle\n",
    "\n",
    "# a. create some data\n",
    "my_data = {}\n",
    "my_data['A'] = {'a':1,'b':2}\n",
    "my_data['B'] = np.array([1,2,3])\n",
    "my_data['C'] = (1,2,3)\n",
    "\n",
    "my_np_data = {}\n",
    "my_np_data['D'] = np.array([1,2,3])\n",
    "my_np_data['E'] = np.zeros((5,8))\n",
    "my_np_data['F'] = np.ones((2,6))\n",
    "\n",
    "# c. save with pickle\n",
    "with open(f'data.p', 'wb') as f:\n",
    "    pickle.dump(my_data, f)\n",
    "    \n",
    "# d. save with numpy\n",
    "    np.savez(f'data.npz',**my_np_data)\n",
    "    \n",
    "# a. try\n",
    "def load_all():\n",
    "    with open(f'data.p', 'rb') as f:\n",
    "        data = pickle.load(f)\n",
    "        A = data['A']\n",
    "        B = data['B']\n",
    "        C = data['C']\n",
    "\n",
    "    with np.load(f'data.npz') as data:\n",
    "        D = data['D']\n",
    "        E = data['E']\n",
    "        F = data['F']        \n",
    "    \n",
    "    print('variables loaded without error')\n",
    "    \n",
    "try:\n",
    "    load_all()\n",
    "except:\n",
    "    print('failed')"
   ]
  },
  {
   "cell_type": "markdown",
   "metadata": {},
   "source": [
    "**Answer:**"
   ]
  },
  {
   "cell_type": "markdown",
   "metadata": {},
   "source": [
    "See A6.py"
   ]
  },
  {
   "cell_type": "markdown",
   "metadata": {},
   "source": [
    "# Extra Problems"
   ]
  },
  {
   "cell_type": "markdown",
   "metadata": {},
   "source": [
    "## Multiple goods"
   ]
  },
  {
   "cell_type": "markdown",
   "metadata": {},
   "source": [
    "Solve the main problem extended with multiple goods:"
   ]
  },
  {
   "cell_type": "markdown",
   "metadata": {},
   "source": [
    "$$\n",
    "\\begin{aligned}\n",
    "u^{j}(x_{1},x_{2}) & = x_{1}^{\\alpha^1_{j}} \\cdot x_{2}^{\\alpha^2_{j}} \\cdots x_{M}^{\\alpha^M_{j}}\\\\\n",
    " &  \\alpha_j = [\\alpha^1_{j},\\alpha^2_{j},\\dots,\\alpha^M_{j}] \\\\\n",
    " &  \\log(\\alpha_j) \\sim \\mathcal{N}(0,\\Sigma) \\\\\n",
    "\\end{aligned}\n",
    "$$\n",
    "\n",
    "where $\\Sigma$ is a valid covariance matrix."
   ]
  },
  {
   "cell_type": "code",
   "execution_count": 47,
   "metadata": {},
   "outputs": [
    {
     "name": "stdout",
     "output_type": "stream",
     "text": [
      "[[ 1.3125  0.375   0.25  ]\n",
      " [ 0.375   1.25   -0.5   ]\n",
      " [ 0.25   -0.5     1.    ]]\n",
      "[1.91849855 1.88322329 1.64320634]\n",
      "[[ 1.          0.18794998  0.12344696]\n",
      " [ 0.18794998  1.         -0.19761657]\n",
      " [ 0.12344696 -0.19761657  1.        ]]\n",
      "  0: prices = [1.         1.60219288 1.42582603] -> excess demands -> [51391.95358907 40219.28785605 42582.60274955]\n",
      "  1: prices = [1.         1.97564768 1.79003878] -> excess demands -> [67277.48429265 37345.47966407 36421.27482605]\n",
      "  2: prices = [1.         2.32992157 2.12751568] -> excess demands -> [81429.62544288 35427.38997375 33747.69014671]\n",
      "  3: prices = [1.         2.67103397 2.44902587] -> excess demands -> [94700.85453124 34111.23993463 32151.01945741]\n",
      "  4: prices = [1.         3.00253127 2.75965939] -> excess demands -> [107413.25938531  33149.72919648  31063.35188665]\n",
      "   ...\n",
      " 25: prices = [1.         9.23406718 8.53412679] -> excess demands -> [339604.18048691  28340.87090059  26198.3865304 ]\n",
      " 50: prices = [ 1.         16.17726997 14.94978167] -> excess demands -> [596236.7232068   27419.80851697  25331.32129543]\n",
      " 75: prices = [ 1.         22.98046588 21.23430906] -> excess demands -> [847456.86623438  27062.83164357  24998.37643398]\n",
      "100: prices = [ 1.         29.71923035 27.45884877] -> excess demands -> [1096228.45197548   26871.6256889    24820.63238295]\n",
      "125: prices = [ 1.         36.42057016 33.64862978] -> excess demands -> [1343588.63100598   26752.09564528   24709.7053948 ]\n",
      "150: prices = [ 1.        43.097362  39.8156418] -> excess demands -> [1590027.11090607   26670.16920604   24633.75278669]\n",
      "175: prices = [ 1.         49.75678072 45.96655321] -> excess demands -> [1835815.17719583   26610.45849563   24578.43337132]\n",
      "200: prices = [ 1.         56.40324341 52.10546442] -> excess demands -> [2081119.19459638   26564.97986121   24536.3195432 ]\n",
      "225: prices = [ 1.         63.03966621 58.2350803 ] -> excess demands -> [2326048.68995937   26529.17290365   24503.17362913]\n",
      "250: prices = [ 1.         69.66807693 64.35728058] -> excess demands -> [2570679.66448573   26500.24100948   24476.39920208]\n",
      "275: prices = [ 1.         76.28994345 70.47342537] -> excess demands -> [2815067.04252088   26476.37278516   24454.31565164]\n",
      "300: prices = [ 1.         82.90636295 76.58453088] -> excess demands -> [3059251.82278399   26456.34281147   24435.78662828]\n",
      "325: prices = [ 1.         89.51817728 82.69137663] -> excess demands -> [3303265.4288024    26439.29215698   24420.01596666]\n",
      "350: prices = [ 1.         96.12604664 88.7945738 ] -> excess demands -> [3547132.48094207   26424.60075361   24406.42910807]\n",
      "375: prices = [  1.         102.73049843  94.8946105 ] -> excess demands -> [3790872.63156787   26411.80967509   24394.60093096]\n",
      "400: prices = [  1.         109.33196067 100.99188284] -> excess demands -> [4034501.81966806   26400.57193182   24384.21008332]\n",
      "425: prices = [  1.         115.93078555 107.08671667] -> excess demands -> [4278033.15244012   26390.6202716    24375.00911067]\n",
      "450: prices = [  1.         122.52726636 113.17938334] -> excess demands -> [4521477.5396004    26381.7454986    24366.80434899]\n",
      "475: prices = [  1.         129.12164997 119.27011119] -> excess demands -> [4764844.1593059    26373.78150663   24359.44204894]\n",
      "500: prices = [  1.         135.71414611 125.35909422] -> excess demands -> [5008140.80667409   26366.59471867   24352.79858752]\n",
      "  0: prices = [5.59065948 6.46496699 7.32253877] -> excess demands -> [59065.9477877  46496.69883805 32253.87720946]\n",
      "  1: prices = [6.15564331 6.92944647 7.65739238] -> excess demands -> [56498.38369147 46447.94822479 33485.36059594]\n",
      "  2: prices = [6.70211388 7.39316719 8.00250707] -> excess demands -> [54647.05622452 46372.07208929 34511.46869721]\n",
      "  3: prices = [7.23466915 7.85605274 8.35625519] -> excess demands -> [53255.52693188 46288.55441017 35374.81213818]\n",
      "  4: prices = [7.756439   8.31811482 8.71732561] -> excess demands -> [52176.98500039 46206.2079891  36107.04247004]\n",
      "   ...\n",
      " 25: prices = [17.86887562 17.9198008  17.01838734] -> excess demands -> [46751.39177085 45505.73829827 40926.48341895]\n",
      " 50: prices = [29.44998259 29.27660652 27.37156599] -> excess demands -> [46098.71562627 45384.83790477 41674.98215877]\n",
      " 75: prices = [40.94996532 40.61809137 37.81962493] -> excess demands -> [45936.55268711 45353.78293778 41867.81307519]\n",
      "100: prices = [52.42494154 51.95477727 48.2975655 ] -> excess demands -> [45874.10646975 45341.79044319 41942.74880814]\n",
      "125: prices = [63.88915752 63.28939874 58.78844061] -> excess demands -> [45844.04153053 45336.0313043  41978.94142835]\n",
      "150: prices = [75.34782416 74.62295904 69.28600052] -> excess demands -> [45827.43712754 45332.86255259 41998.95417016]\n",
      "175: prices = [86.80327838 85.95590743 79.78743319] -> excess demands -> [45817.36945685 45330.94878739 42011.09333734]\n",
      "200: prices = [98.25671688 97.28847337 90.29129641] -> excess demands -> [45810.83718723 45329.71176226 42018.96998654]\n",
      "225: prices = [109.70881288 108.62078552 100.79677835] -> excess demands -> [45806.37486981 45328.86973236 42024.34992552]\n",
      "250: prices = [121.15997269 119.95292131 111.30338887] -> excess demands -> [45803.20066164 45328.27275359 42028.17599082]\n",
      "275: prices = [132.61045537 131.28492995 121.81081546] -> excess demands -> [45800.867749   45327.83535524 42030.9872176 ]\n",
      "300: prices = [144.06043349 142.61684412 132.31884997] -> excess demands -> [45799.10635263 45327.5060632  42033.10912239]\n",
      "325: prices = [155.51002623 153.94868635 142.82734867] -> excess demands -> [45797.74608501 45327.25244799 42034.74730159]\n",
      "350: prices = [166.95931842 165.2804726  153.33620928] -> excess demands -> [45796.67521433 45327.05329468 42036.03656755]\n",
      "375: prices = [178.40837197 176.61221454 163.84535714] -> excess demands -> [45795.81810296 45326.8942744  42037.06817215]\n",
      "400: prices = [189.8572331  187.94392081 174.35473656] -> excess demands -> [45795.12212899 45326.76544012 42037.90559083]\n",
      "425: prices = [201.30593697 199.27559801 184.86430518] -> excess demands -> [45794.54980398 45326.65972018 42038.59403655]\n",
      "450: prices = [212.75451078 210.6072512  195.37403022] -> excess demands -> [45794.07385955 45326.57198101 42039.1663902 ]\n",
      "475: prices = [224.20297587 221.93888437 205.883886  ] -> excess demands -> [45793.6740934  45326.49842649 42039.64700757]\n",
      "500: prices = [235.19341586 232.81723632 215.97345152] -> excess demands -> [45793.33529135 45326.43620298 42040.05422717]\n"
     ]
    }
   ],
   "source": [
    "# a. choose parameters\n",
    "N = 10000\n",
    "J = 3\n",
    "\n",
    "\n",
    "# b. choose Sigma\n",
    "Sigma_lower = np.array([[1, 0, 0], [0.5, 1, 0], [0.25, -0.5, 1]])\n",
    "Sigma_upper = Sigma_lower.T\n",
    "Sigma = Sigma_upper@Sigma_lower\n",
    "print(Sigma)\n",
    "\n",
    "# c. draw random numbers\n",
    "alphas = np.exp(np.random.multivariate_normal(np.zeros(J), Sigma, 10000))\n",
    "print(np.mean(alphas,axis=0))\n",
    "print(np.corrcoef(alphas.T))\n",
    "\n",
    "# d. define demand\n",
    "\n",
    "# c. demand function for all goods\n",
    "def demand_func(alpha, prices, k):\n",
    "    I = np.dot(k, prices)  # income is the dot product of individual consumption bundle k and prices\n",
    "    demand = alpha * I / prices  # demand for each good\n",
    "    return demand\n",
    "\n",
    "# d. excess demand function for all goods\n",
    "def excess_demand_func(alphas, prices, k):\n",
    "    # calculate demand for all individuals and all goods\n",
    "    demands = np.array([demand_func(alphas[i], prices, k[i]) for i in range(N)])\n",
    "    # aggregate demand across individuals\n",
    "    aggregate_demand = np.sum(demands, axis=0)\n",
    "    # aggregate supply for each good (assuming fixed for simplicity)\n",
    "    supply = k.sum(axis=0)\n",
    "    # excess demand for each good\n",
    "    excess_demand = aggregate_demand - supply\n",
    "    return excess_demand\n",
    "\n",
    "# e. find equilibrium function (extended to handle multiple goods)\n",
    "def find_equilibrium_numeraire(alphas, prices, k, numeraire_index, kappa=0.1, eps=1e-8, maxiter=500):\n",
    "    t = 0\n",
    "    while True:\n",
    "        # a. step 1: calculate excess demand for all goods except numeraire\n",
    "        Z = excess_demand_func(alphas, prices, k)\n",
    "        \n",
    "        # b. only adjust prices for goods that are not the numeraire\n",
    "        for i in range(len(prices)):\n",
    "            if i != numeraire_index:\n",
    "                prices[i] = prices[i] + kappa * Z[i] / N\n",
    "                \n",
    "                # Avoid negative prices\n",
    "                prices[i] = max(prices[i], 0)\n",
    "        \n",
    "        # c. step 2: check if excess demand for non-numeraire goods is below threshold\n",
    "        if np.all(np.abs(Z[np.arange(len(Z)) != numeraire_index]) < eps) or t >= maxiter:\n",
    "            print(f'{t:3d}: prices = {prices} -> excess demands -> {Z}')\n",
    "            break\n",
    "        \n",
    "        if t < 5 or t % 25 == 0:\n",
    "            print(f'{t:3d}: prices = {prices} -> excess demands -> {Z}')\n",
    "        elif t == 5:\n",
    "            print('   ...')\n",
    "        \n",
    "        t += 1\n",
    "    \n",
    "    return prices\n",
    "\n",
    "# f. set initial parameters and call the new find equilibrium function\n",
    "numeraire_index = 0  # for example, choosing the first good as the numeraire\n",
    "initial_prices = np.array([1.0, 1.2, 1.0])  # set the numeraire price to 1\n",
    "equilibrium_prices = find_equilibrium_numeraire(alphas, initial_prices, k, numeraire_index, kappa=0.1, eps=eps, maxiter=maxiter)\n",
    "\n",
    "# f. set initial parameters and call the find equilibrium function\n",
    "initial_prices = np.array([5, 6, 7])  # initial guess for the prices of goods\n",
    "k = np.ones((N, J))  # initial consumption bundle (fixed for simplicity)\n",
    "eps = 1e-8\n",
    "maxiter = 500\n",
    "equilibrium_prices = find_equilibrium(alphas, initial_prices, k, kappa=10, eps=eps, maxiter=maxiter)"
   ]
  }
 ],
 "metadata": {
  "kernelspec": {
   "display_name": "Python 3 (ipykernel)",
   "language": "python",
   "name": "python3"
  },
  "language_info": {
   "codemirror_mode": {
    "name": "ipython",
    "version": 3
   },
   "file_extension": ".py",
   "mimetype": "text/x-python",
   "name": "python",
   "nbconvert_exporter": "python",
   "pygments_lexer": "ipython3",
   "version": "3.11.5"
  },
  "toc-autonumbering": true
 },
 "nbformat": 4,
 "nbformat_minor": 4
}
